{
 "cells": [
  {
   "cell_type": "code",
   "execution_count": 1,
   "id": "c5660e4d",
   "metadata": {},
   "outputs": [
    {
     "name": "stdout",
     "output_type": "stream",
     "text": [
      "rudhrarudhrarudhrarudhrarudhra\n"
     ]
    }
   ],
   "source": [
    "\"\"\"we can also sring the character in mulitples times\"\"\"\n",
    "print(\"rudhra\"*5)"
   ]
  },
  {
   "cell_type": "raw",
   "id": "e4fcf6d4",
   "metadata": {},
   "source": [
    "\"\"python use in commaand prompt\"\""
   ]
  },
  {
   "cell_type": "raw",
   "id": "6c5925db",
   "metadata": {},
   "source": [
    "In pyhton also assign multiple variable at the time in single line command"
   ]
  },
  {
   "cell_type": "code",
   "execution_count": 11,
   "id": "5d0d58ab",
   "metadata": {},
   "outputs": [
    {
     "name": "stdout",
     "output_type": "stream",
     "text": [
      "167\n"
     ]
    }
   ],
   "source": [
    "Name,age,height=\"rudhra\",12,167\n",
    "print(height)"
   ]
  },
  {
   "cell_type": "code",
   "execution_count": 12,
   "id": "cc56cad0",
   "metadata": {},
   "outputs": [
    {
     "name": "stdout",
     "output_type": "stream",
     "text": [
      "100\n"
     ]
    }
   ],
   "source": [
    "boys=girls=100\n",
    "print(girls)"
   ]
  },
  {
   "cell_type": "code",
   "execution_count": 13,
   "id": "78cc0418",
   "metadata": {},
   "outputs": [
    {
     "name": "stdout",
     "output_type": "stream",
     "text": [
      "100\n"
     ]
    }
   ],
   "source": [
    "print(boys)"
   ]
  },
  {
   "cell_type": "markdown",
   "id": "dafa8728",
   "metadata": {},
   "source": [
    "# type casting"
   ]
  },
  {
   "cell_type": "code",
   "execution_count": 14,
   "id": "c52d7f47",
   "metadata": {},
   "outputs": [
    {
     "ename": "TypeError",
     "evalue": "can only concatenate str (not \"int\") to str",
     "output_type": "error",
     "traceback": [
      "\u001b[1;31m---------------------------------------------------------------------------\u001b[0m",
      "\u001b[1;31mTypeError\u001b[0m                                 Traceback (most recent call last)",
      "Input \u001b[1;32mIn [14]\u001b[0m, in \u001b[0;36m<module>\u001b[1;34m\u001b[0m\n\u001b[0;32m      1\u001b[0m height\u001b[38;5;241m=\u001b[39m\u001b[38;5;241m177\u001b[39m\n\u001b[1;32m----> 2\u001b[0m \u001b[38;5;28mprint\u001b[39m(\u001b[38;5;124;43m\"\u001b[39;49m\u001b[38;5;124;43myour height is\u001b[39;49m\u001b[38;5;124;43m\"\u001b[39;49m\u001b[38;5;241;43m+\u001b[39;49m\u001b[43mheight\u001b[49m)\n",
      "\u001b[1;31mTypeError\u001b[0m: can only concatenate str (not \"int\") to str"
     ]
    }
   ],
   "source": [
    "height=177\n",
    "print(\"your height is\"+height)"
   ]
  },
  {
   "cell_type": "code",
   "execution_count": 19,
   "id": "acf820e2",
   "metadata": {},
   "outputs": [
    {
     "name": "stdout",
     "output_type": "stream",
     "text": [
      "your height is177\n"
     ]
    }
   ],
   "source": [
    "\"\"\"we can't concatenate number and string use another way is type casting\"\"\"\n",
    "#convert the interger to string\n",
    "height=177\n",
    "h=str(height)\n",
    "print(\"your height is\"+h)"
   ]
  },
  {
   "cell_type": "code",
   "execution_count": 22,
   "id": "49642b78",
   "metadata": {},
   "outputs": [
    {
     "name": "stdout",
     "output_type": "stream",
     "text": [
      "your height is 177\n"
     ]
    }
   ],
   "source": [
    "print(\"your height is \"+h)"
   ]
  },
  {
   "cell_type": "code",
   "execution_count": 23,
   "id": "de52c771",
   "metadata": {},
   "outputs": [
    {
     "name": "stdout",
     "output_type": "stream",
     "text": [
      "your height is 177\n"
     ]
    }
   ],
   "source": [
    "print(\"your height is \"+str(height))"
   ]
  },
  {
   "cell_type": "code",
   "execution_count": 24,
   "id": "07c83dd1",
   "metadata": {},
   "outputs": [
    {
     "data": {
      "text/plain": [
       "int"
      ]
     },
     "execution_count": 24,
     "metadata": {},
     "output_type": "execute_result"
    }
   ],
   "source": [
    "type(height)"
   ]
  },
  {
   "cell_type": "raw",
   "id": "0973edc3",
   "metadata": {},
   "source": [
    "# In above output we get only temporary string for getting an output not fully"
   ]
  },
  {
   "cell_type": "raw",
   "id": "efbe610d",
   "metadata": {},
   "source": [
    "But here is fully converted to assign in variable"
   ]
  },
  {
   "cell_type": "code",
   "execution_count": 25,
   "id": "ab9dbccf",
   "metadata": {},
   "outputs": [
    {
     "data": {
      "text/plain": [
       "str"
      ]
     },
     "execution_count": 25,
     "metadata": {},
     "output_type": "execute_result"
    }
   ],
   "source": [
    "type(h)"
   ]
  },
  {
   "cell_type": "code",
   "execution_count": 26,
   "id": "e3daf046",
   "metadata": {},
   "outputs": [],
   "source": [
    "#Data type- string(str),integer(int),boolean(bool),float"
   ]
  },
  {
   "cell_type": "code",
   "execution_count": null,
   "id": "a8564783",
   "metadata": {},
   "outputs": [],
   "source": [
    "Assignment for you:\n",
    "    print the following statements in your jupyter notebook\n",
    "       1, hi name\n",
    "       2, happy birthday to my mother \n",
    "       3, your life time is 2021\n",
    "       4, year(2000) "
   ]
  }
 ],
 "metadata": {
  "kernelspec": {
   "display_name": "Python 3 (ipykernel)",
   "language": "python",
   "name": "python3"
  },
  "language_info": {
   "codemirror_mode": {
    "name": "ipython",
    "version": 3
   },
   "file_extension": ".py",
   "mimetype": "text/x-python",
   "name": "python",
   "nbconvert_exporter": "python",
   "pygments_lexer": "ipython3",
   "version": "3.10.2"
  }
 },
 "nbformat": 4,
 "nbformat_minor": 5
}
