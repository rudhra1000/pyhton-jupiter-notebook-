{
 "cells": [
  {
   "cell_type": "markdown",
   "id": "f8ed3bbc",
   "metadata": {},
   "source": [
    "# Learn Jupiter Notebook Easily "
   ]
  },
  {
   "cell_type": "code",
   "execution_count": 1,
   "id": "36d573d9",
   "metadata": {},
   "outputs": [
    {
     "name": "stdout",
     "output_type": "stream",
     "text": [
      "HELLO WORLD\n"
     ]
    }
   ],
   "source": [
    "#say hello to the world of python\n",
    "print(\"HELLO WORLD\")"
   ]
  },
  {
   "cell_type": "raw",
   "id": "786dfbf3",
   "metadata": {},
   "source": [
    "# Source code is an code writen by you it's runs by an interpreter called Python is direct contact with processor ie.machine code like 0 and 1. "
   ]
  },
  {
   "cell_type": "markdown",
   "id": "8d86237a",
   "metadata": {},
   "source": [
    "# String handling"
   ]
  },
  {
   "cell_type": "code",
   "execution_count": 2,
   "id": "1c7c3148",
   "metadata": {},
   "outputs": [
    {
     "name": "stdout",
     "output_type": "stream",
     "text": [
      "Hello Rudhra\n",
      "hello hi!\n"
     ]
    }
   ],
   "source": [
    "#string-sets of character in single or double code \"\",''.\n",
    "#- this symbol refers an comments line this not an code for an easy use for an coders \n",
    "print(\"Hello Rudhra\")\n",
    "print('hello hi!')"
   ]
  },
  {
   "cell_type": "raw",
   "id": "3730291a",
   "metadata": {},
   "source": [
    "print is an funtion its runs what we given inside an function"
   ]
  },
  {
   "cell_type": "code",
   "execution_count": 3,
   "id": "171281d0",
   "metadata": {},
   "outputs": [
    {
     "name": "stdout",
     "output_type": "stream",
     "text": [
      "5265\n"
     ]
    }
   ],
   "source": [
    "print(\"5265\")"
   ]
  },
  {
   "cell_type": "code",
   "execution_count": 4,
   "id": "6faebcfe",
   "metadata": {},
   "outputs": [
    {
     "name": "stdout",
     "output_type": "stream",
     "text": [
      "the perfect 123\n"
     ]
    }
   ],
   "source": [
    "print('the perfect 123')"
   ]
  },
  {
   "cell_type": "code",
   "execution_count": 5,
   "id": "e30d0837",
   "metadata": {},
   "outputs": [
    {
     "name": "stdout",
     "output_type": "stream",
     "text": [
      "rudhra\n"
     ]
    }
   ],
   "source": [
    "#Variable\n",
    "'''its like memory allocation of some letters and character it should not start with an number.\n",
    "we can change any time\n",
    "Its assign by an='''\n",
    "name=\"rudhra\"\n",
    "print(name)"
   ]
  },
  {
   "cell_type": "code",
   "execution_count": 6,
   "id": "8f2b1c0b",
   "metadata": {},
   "outputs": [
    {
     "ename": "SyntaxError",
     "evalue": "invalid decimal literal (2578180788.py, line 1)",
     "output_type": "error",
     "traceback": [
      "\u001b[1;36m  Input \u001b[1;32mIn [6]\u001b[1;36m\u001b[0m\n\u001b[1;33m    0rudhra=\"baby\"\u001b[0m\n\u001b[1;37m    ^\u001b[0m\n\u001b[1;31mSyntaxError\u001b[0m\u001b[1;31m:\u001b[0m invalid decimal literal\n"
     ]
    }
   ],
   "source": [
    "0rudhra=\"baby\"\n",
    "print(0rudhra)"
   ]
  },
  {
   "cell_type": "raw",
   "id": "d1bbbb73",
   "metadata": {},
   "source": [
    "In above cell 0 is starting we gets an syntax error it should not come"
   ]
  },
  {
   "cell_type": "code",
   "execution_count": 8,
   "id": "533faca8",
   "metadata": {},
   "outputs": [],
   "source": [
    "a=\"hello\"\n",
    "b=\"world\"\n",
    "c=\"rudhra\""
   ]
  },
  {
   "cell_type": "code",
   "execution_count": 9,
   "id": "dd919726",
   "metadata": {},
   "outputs": [
    {
     "name": "stdout",
     "output_type": "stream",
     "text": [
      "hello world rudhra\n"
     ]
    }
   ],
   "source": [
    "print(a,b,c)"
   ]
  },
  {
   "cell_type": "code",
   "execution_count": 15,
   "id": "ea420b2a",
   "metadata": {},
   "outputs": [
    {
     "name": "stdout",
     "output_type": "stream",
     "text": [
      "hello\n",
      "world\n",
      "rudhra\n",
      "hirudhra\n",
      "hellorudhra\n"
     ]
    }
   ],
   "source": [
    "print(a)\n",
    "print(b)\n",
    "print(c)\n",
    "print(\"hi\"+c)\n",
    "print(\"hello\" + c)"
   ]
  },
  {
   "cell_type": "code",
   "execution_count": 16,
   "id": "d56dd84c",
   "metadata": {},
   "outputs": [
    {
     "name": "stdout",
     "output_type": "stream",
     "text": [
      "hello\n",
      "hellorudhra\n",
      "world\n",
      "rudhra\n",
      "hirudhra\n"
     ]
    }
   ],
   "source": [
    "print(a)\n",
    "print(\"hello\" + c)\n",
    "print(b)\n",
    "print(c)\n",
    "print(\"hi\"+c)\n"
   ]
  },
  {
   "cell_type": "raw",
   "id": "05f671cf",
   "metadata": {},
   "source": [
    "#pyhton is an line by line excutes  \n",
    "#its dynamical typed language"
   ]
  },
  {
   "cell_type": "code",
   "execution_count": 17,
   "id": "f299f157",
   "metadata": {},
   "outputs": [
    {
     "name": "stdout",
     "output_type": "stream",
     "text": [
      "145\n"
     ]
    }
   ],
   "source": [
    "price=45\n",
    "\"we can give any type to assign variable also should accept only '_' this like _rudhra\"\n",
    "sale_price=100\n",
    "_sum=price + sale_price\n",
    "print(_sum)"
   ]
  },
  {
   "cell_type": "code",
   "execution_count": 19,
   "id": "d513d167",
   "metadata": {},
   "outputs": [
    {
     "data": {
      "text/plain": [
       "9"
      ]
     },
     "execution_count": 19,
     "metadata": {},
     "output_type": "execute_result"
    }
   ],
   "source": [
    "#we use any type of operators like\n",
    "4+5\n"
   ]
  },
  {
   "cell_type": "code",
   "execution_count": 20,
   "id": "2ef0de6c",
   "metadata": {},
   "outputs": [
    {
     "data": {
      "text/plain": [
       "-1"
      ]
     },
     "execution_count": 20,
     "metadata": {},
     "output_type": "execute_result"
    }
   ],
   "source": [
    "2-3"
   ]
  },
  {
   "cell_type": "code",
   "execution_count": 21,
   "id": "02b3a0a3",
   "metadata": {},
   "outputs": [
    {
     "data": {
      "text/plain": [
       "40"
      ]
     },
     "execution_count": 21,
     "metadata": {},
     "output_type": "execute_result"
    }
   ],
   "source": [
    "5*8"
   ]
  },
  {
   "cell_type": "code",
   "execution_count": 22,
   "id": "8298f66b",
   "metadata": {},
   "outputs": [
    {
     "data": {
      "text/plain": [
       "0.8571428571428571"
      ]
     },
     "execution_count": 22,
     "metadata": {},
     "output_type": "execute_result"
    }
   ],
   "source": [
    "6/7"
   ]
  },
  {
   "cell_type": "code",
   "execution_count": 23,
   "id": "607f1bd6",
   "metadata": {},
   "outputs": [
    {
     "data": {
      "text/plain": [
       "1"
      ]
     },
     "execution_count": 23,
     "metadata": {},
     "output_type": "execute_result"
    }
   ],
   "source": [
    "5%4"
   ]
  },
  {
   "cell_type": "code",
   "execution_count": 24,
   "id": "04c37521",
   "metadata": {},
   "outputs": [
    {
     "data": {
      "text/plain": [
       "0"
      ]
     },
     "execution_count": 24,
     "metadata": {},
     "output_type": "execute_result"
    }
   ],
   "source": [
    "# % modulus gives remainder \n",
    "6%3"
   ]
  },
  {
   "cell_type": "markdown",
   "id": "5c44d6ba",
   "metadata": {},
   "source": [
    "# Method "
   ]
  },
  {
   "cell_type": "code",
   "execution_count": 25,
   "id": "8fc1df0d",
   "metadata": {},
   "outputs": [
    {
     "data": {
      "text/plain": [
       "'RUDHRA'"
      ]
     },
     "execution_count": 25,
     "metadata": {},
     "output_type": "execute_result"
    }
   ],
   "source": [
    "\"\"\"its also like an funtion can to specified task but come under dot to call operator.\"\"\"\n",
    "a=\"rudhra\"\n",
    "a.upper()"
   ]
  },
  {
   "cell_type": "code",
   "execution_count": 26,
   "id": "29ad940b",
   "metadata": {},
   "outputs": [
    {
     "data": {
      "text/plain": [
       "'rudhra'"
      ]
     },
     "execution_count": 26,
     "metadata": {},
     "output_type": "execute_result"
    }
   ],
   "source": [
    "#see uppper is an method is used to do an small letter to capitalized\n",
    "a.lower()"
   ]
  },
  {
   "cell_type": "code",
   "execution_count": 28,
   "id": "e7a03dff",
   "metadata": {},
   "outputs": [
    {
     "data": {
      "text/plain": [
       "'Hello Rudhra 1000'"
      ]
     },
     "execution_count": 28,
     "metadata": {},
     "output_type": "execute_result"
    }
   ],
   "source": [
    "\"function can call directly but funtion can invokes by an object or variable with dot symbol\"\n",
    "b=\"hello rudhra 1000\"\n",
    "b.title()"
   ]
  },
  {
   "cell_type": "code",
   "execution_count": 31,
   "id": "fb2e57c2",
   "metadata": {},
   "outputs": [
    {
     "name": "stdout",
     "output_type": "stream",
     "text": [
      "hello world\n"
     ]
    }
   ],
   "source": [
    "#concade \n",
    "\"we can only concade string not a interger\"\n",
    "\"eg:\"\n",
    "a=\"hello\"\n",
    "b=\"world\"\n",
    "print(a+\" \"+b)"
   ]
  },
  {
   "cell_type": "code",
   "execution_count": 32,
   "id": "9c84dc39",
   "metadata": {},
   "outputs": [
    {
     "ename": "TypeError",
     "evalue": "can only concatenate str (not \"int\") to str",
     "output_type": "error",
     "traceback": [
      "\u001b[1;31m---------------------------------------------------------------------------\u001b[0m",
      "\u001b[1;31mTypeError\u001b[0m                                 Traceback (most recent call last)",
      "Input \u001b[1;32mIn [32]\u001b[0m, in \u001b[0;36m<module>\u001b[1;34m\u001b[0m\n\u001b[0;32m      1\u001b[0m c\u001b[38;5;241m=\u001b[39m\u001b[38;5;241m10\u001b[39m\n\u001b[1;32m----> 2\u001b[0m \u001b[38;5;28mprint\u001b[39m(\u001b[43ma\u001b[49m\u001b[38;5;241;43m+\u001b[39;49m\u001b[43mc\u001b[49m)\n",
      "\u001b[1;31mTypeError\u001b[0m: can only concatenate str (not \"int\") to str"
     ]
    }
   ],
   "source": [
    "c=10\n",
    "print(a+c)"
   ]
  },
  {
   "cell_type": "code",
   "execution_count": 33,
   "id": "04a3f2f5",
   "metadata": {},
   "outputs": [
    {
     "name": "stdout",
     "output_type": "stream",
     "text": [
      "hello10\n"
     ]
    }
   ],
   "source": [
    "print(a+str(c))"
   ]
  },
  {
   "cell_type": "code",
   "execution_count": 35,
   "id": "b553bf82",
   "metadata": {},
   "outputs": [
    {
     "name": "stdout",
     "output_type": "stream",
     "text": [
      "110\n",
      "10100\n",
      "10100\n"
     ]
    }
   ],
   "source": [
    "\"we can also convert the data type\"\n",
    "a=10\n",
    "b=100\n",
    "\n",
    "#its give sum of a and b not to concade\n",
    "print(a+b)\n",
    "\n",
    "#change integer to sting data type\n",
    "a=str(a)\n",
    "b=str(b)\n",
    "print(a+b)\n",
    "\n",
    "#by simple print statement\n",
    "print(str(a)+str(b))"
   ]
  },
  {
   "cell_type": "code",
   "execution_count": 36,
   "id": "85def054",
   "metadata": {},
   "outputs": [
    {
     "ename": "NameError",
     "evalue": "name 'h' is not defined",
     "output_type": "error",
     "traceback": [
      "\u001b[1;31m---------------------------------------------------------------------------\u001b[0m",
      "\u001b[1;31mNameError\u001b[0m                                 Traceback (most recent call last)",
      "Input \u001b[1;32mIn [36]\u001b[0m, in \u001b[0;36m<module>\u001b[1;34m\u001b[0m\n\u001b[0;32m      1\u001b[0m a\u001b[38;5;241m=\u001b[39m\u001b[38;5;124m\"\u001b[39m\u001b[38;5;124mhappy birthday Rudhra\u001b[39m\u001b[38;5;124m\"\u001b[39m\n\u001b[1;32m----> 2\u001b[0m a\u001b[38;5;241m.\u001b[39mfind(\u001b[43mh\u001b[49m)\n",
      "\u001b[1;31mNameError\u001b[0m: name 'h' is not defined"
     ]
    }
   ],
   "source": [
    "a=\"happy birthday Rudhra\"\n",
    "a.find(h)"
   ]
  },
  {
   "cell_type": "code",
   "execution_count": 37,
   "id": "42a612ce",
   "metadata": {},
   "outputs": [
    {
     "data": {
      "text/plain": [
       "0"
      ]
     },
     "execution_count": 37,
     "metadata": {},
     "output_type": "execute_result"
    }
   ],
   "source": [
    "\"\"\"give inside an parenthes with double quation \n",
    "give normal its take has variable\"\"\"\n",
    "a.find(\"h\")"
   ]
  },
  {
   "cell_type": "code",
   "execution_count": 38,
   "id": "5e864f19",
   "metadata": {},
   "outputs": [
    {
     "data": {
      "text/plain": [
       "6"
      ]
     },
     "execution_count": 38,
     "metadata": {},
     "output_type": "execute_result"
    }
   ],
   "source": [
    "#0 is an index value \n",
    "#h a p p y   b i\n",
    "#0 1 2 3 4 5 6 7\n",
    "a.find(\"b\")"
   ]
  },
  {
   "cell_type": "code",
   "execution_count": 39,
   "id": "3e5c7e50",
   "metadata": {},
   "outputs": [
    {
     "data": {
      "text/plain": [
       "5"
      ]
     },
     "execution_count": 39,
     "metadata": {},
     "output_type": "execute_result"
    }
   ],
   "source": [
    "a.find(\" \")"
   ]
  },
  {
   "cell_type": "code",
   "execution_count": 40,
   "id": "ad0ffca3",
   "metadata": {},
   "outputs": [
    {
     "data": {
      "text/plain": [
       "-1"
      ]
     },
     "execution_count": 40,
     "metadata": {},
     "output_type": "execute_result"
    }
   ],
   "source": [
    "#give not in word give negativevalue\n",
    "a.find(\"z\")"
   ]
  },
  {
   "cell_type": "code",
   "execution_count": 42,
   "id": "6e7ea026",
   "metadata": {},
   "outputs": [
    {
     "data": {
      "text/plain": [
       "'hfppy birthdfy Rudhrf'"
      ]
     },
     "execution_count": 42,
     "metadata": {},
     "output_type": "execute_result"
    }
   ],
   "source": [
    "a.replace(\"a\",\"f\")"
   ]
  },
  {
   "cell_type": "code",
   "execution_count": null,
   "id": "d024a8a3",
   "metadata": {},
   "outputs": [],
   "source": [
    "\"\"\"search in net for more methods to handle string\"\"\""
   ]
  }
 ],
 "metadata": {
  "kernelspec": {
   "display_name": "Python 3 (ipykernel)",
   "language": "python",
   "name": "python3"
  },
  "language_info": {
   "codemirror_mode": {
    "name": "ipython",
    "version": 3
   },
   "file_extension": ".py",
   "mimetype": "text/x-python",
   "name": "python",
   "nbconvert_exporter": "python",
   "pygments_lexer": "ipython3",
   "version": "3.10.2"
  }
 },
 "nbformat": 4,
 "nbformat_minor": 5
}
